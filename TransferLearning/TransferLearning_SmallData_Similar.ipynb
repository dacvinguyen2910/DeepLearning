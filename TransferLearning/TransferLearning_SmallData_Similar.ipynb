{
  "nbformat": 4,
  "nbformat_minor": 0,
  "metadata": {
    "colab": {
      "provenance": []
    },
    "kernelspec": {
      "name": "python3",
      "display_name": "Python 3"
    },
    "language_info": {
      "name": "python"
    }
  },
  "cells": [
    {
      "cell_type": "markdown",
      "source": [
        "Transfer Learning with small Data"
      ],
      "metadata": {
        "id": "RcmBfEphlIe7"
      }
    },
    {
      "cell_type": "code",
      "source": [
        "import warnings\n",
        "warnings.filterwarnings('ignore')"
      ],
      "metadata": {
        "id": "X3itK6k2lLX0"
      },
      "execution_count": null,
      "outputs": []
    },
    {
      "cell_type": "code",
      "source": [
        "from google.colab import drive\n",
        "drive.mount(\"/content/gdrive\", force_remount=True)"
      ],
      "metadata": {
        "id": "vAxps76WlU2T"
      },
      "execution_count": null,
      "outputs": []
    },
    {
      "cell_type": "code",
      "source": [
        "%cd '/content/gdrive/My Drive/...'"
      ],
      "metadata": {
        "id": "QMetgAoklWrL"
      },
      "execution_count": null,
      "outputs": []
    },
    {
      "cell_type": "code",
      "source": [
        "#import libs\n",
        "import tensorflow as tf\n",
        "from tensorflow.keras import applications\n",
        "from tensorflow.keras.preprocessing.image import ImageDataGenerator\n",
        "from tensorflow.keras import optimizers\n",
        "from tensorflow.keras import Sequential,Model\n",
        "from tensorflow.keras.layers import Dropout,Flatten,Dense,GlobalMaxPooling2D\n",
        "from tensorflow.keras import backend as k\n",
        "from tensorflow.keras.callbacks import ModelCheckpoint,LearningRateScheduler,TensorBoard,EarlyStopping\n"
      ],
      "metadata": {
        "id": "h5Lmc3HGlamL"
      },
      "execution_count": null,
      "outputs": []
    },
    {
      "cell_type": "code",
      "source": [
        "#Small dataset ~300 images: 2 classes -> strategy 4"
      ],
      "metadata": {
        "id": "8eb_1r4DliWU"
      },
      "execution_count": null,
      "outputs": []
    },
    {
      "cell_type": "code",
      "source": [
        "img_width, img_height = 224, 224\n",
        "train_data_dir = \"dataset/training_set\"\n",
        "validation_data_dir = \"dataset/test_set\""
      ],
      "metadata": {
        "id": "vrP0SkCplpC8"
      },
      "execution_count": null,
      "outputs": []
    },
    {
      "cell_type": "code",
      "source": [
        "# https://www.tensorflow.org/api_docs/python/tf/keras/applications/VGG16\n",
        "model = applications.VGG16(weights = \"imagenet\",\n",
        "include_top=False, #whether to include the 3 fully-connected\n",
        "input_shape = (img_width, img_height, 3))"
      ],
      "metadata": {
        "id": "cuBOvpxnlszD"
      },
      "execution_count": null,
      "outputs": []
    },
    {
      "cell_type": "code",
      "source": [
        "model.summary()"
      ],
      "metadata": {
        "id": "ehDOdmWXlu6M"
      },
      "execution_count": null,
      "outputs": []
    },
    {
      "cell_type": "code",
      "source": [
        "#New dataset is small and similar to original dataset"
      ],
      "metadata": {
        "id": "4r16E6v3lwSU"
      },
      "execution_count": null,
      "outputs": []
    },
    {
      "cell_type": "code",
      "source": [
        "# So lets freeze all the VGG16 layers and train only the classifier\n",
        "for layer in model.layers:\n",
        "  layer.trainable = False"
      ],
      "metadata": {
        "id": "-mDKFSIolzWE"
      },
      "execution_count": null,
      "outputs": []
    },
    {
      "cell_type": "code",
      "source": [
        "#Adding custom Layers - ANN\n",
        "x = model.output\n",
        "x = Flatten()(x)\n",
        "x = Dense(1024, activation=\"relu\")(x)\n",
        "x = Dropout(0.5)(x)\n",
        "x = Dense(1024, activation=\"relu\")(x)\n",
        "predictions = Dense(2, activation=\"softmax\")(x)"
      ],
      "metadata": {
        "id": "XKzIEd3_l2zk"
      },
      "execution_count": null,
      "outputs": []
    },
    {
      "cell_type": "code",
      "source": [
        "# creating the final model\n",
        "model_final = Model(inputs = model.input, outputs = predictions)"
      ],
      "metadata": {
        "id": "2yto_fmrl4-E"
      },
      "execution_count": null,
      "outputs": []
    },
    {
      "cell_type": "code",
      "source": [
        "# compile the model\n",
        "model_final.compile(loss = \"categorical_crossentropy\",\n",
        "                    optimizer = optimizers.SGD(lr=0.0001, momentum=0.9),\n",
        "                    metrics=[\"accuracy\"])"
      ],
      "metadata": {
        "id": "UKSKppW_l6gM"
      },
      "execution_count": null,
      "outputs": []
    },
    {
      "cell_type": "code",
      "source": [
        "# Initiate the train and test generators with data Augumentation\n",
        "train_datagen = ImageDataGenerator(rescale = 1./255,\n",
        "                                  horizontal_flip = True,\n",
        "                                  fill_mode = \"nearest\",\n",
        "                                  zoom_range = 0.3,\n",
        "                                  width_shift_range = 0.3,\n",
        "                                  height_shift_range=0.3,\n",
        "                                  rotation_range=30)\n",
        "test_datagen = ImageDataGenerator(rescale = 1./255,\n",
        "                                  horizontal_flip = True,\n",
        "                                  fill_mode = \"nearest\",\n",
        "                                  zoom_range = 0.3,\n",
        "                                  width_shift_range = 0.3,\n",
        "                                  height_shift_range=0.3,\n",
        "                                  rotation_range=30)"
      ],
      "metadata": {
        "id": "rucZHzzkmBVs"
      },
      "execution_count": null,
      "outputs": []
    },
    {
      "cell_type": "code",
      "source": [
        "train_generator = train_datagen.flow_from_directory(train_data_dir,\n",
        "                                                    target_size = (img_height,\n",
        "                                                    img_width),\n",
        "                                                    batch_size = 32,\n",
        "                                                    class_mode = \"categorical\")\n",
        "validation_generator = test_datagen.flow_from_directory(validation_data_dir,\n",
        "                                                        target_size = (img_height,\n",
        "                                                        img_width),\n",
        "                                                        class_mode = \"categorical\")"
      ],
      "metadata": {
        "id": "WOPZ3DzwmX7M"
      },
      "execution_count": null,
      "outputs": []
    },
    {
      "cell_type": "code",
      "source": [
        "# Save the model according to the conditions\n",
        "checkpoint = ModelCheckpoint(\"vgg16_1.h5\",\n",
        "                              monitor='val_loss',\n",
        "                              verbose=1,\n",
        "                              save_best_only=True,\n",
        "                              save_weights_only=False,\n",
        "                              mode='auto',\n",
        "                              save_freq=1)\n",
        "early = EarlyStopping(monitor='val_loss',\n",
        "                      min_delta=0,\n",
        "                      patience=10,\n",
        "                      verbose=1,\n",
        "                      mode='auto')"
      ],
      "metadata": {
        "id": "tgIZsB0Dmi_c"
      },
      "execution_count": null,
      "outputs": []
    },
    {
      "cell_type": "code",
      "source": [
        "import datetime"
      ],
      "metadata": {
        "id": "RoLPviOBmvBU"
      },
      "execution_count": null,
      "outputs": []
    },
    {
      "cell_type": "code",
      "source": [
        "t0 = datetime.datetime.now()\n",
        "print(t0)"
      ],
      "metadata": {
        "id": "ouDomqlImxw8"
      },
      "execution_count": null,
      "outputs": []
    },
    {
      "cell_type": "code",
      "source": [
        "# Train the model\n",
        "model_final.fit(train_generator,\n",
        "                steps_per_epoch =len(train_generator),\n",
        "                epochs = 100,\n",
        "                validation_data = validation_generator,\n",
        "                validation_steps = len(validation_generator),\n",
        "                verbose = 1,\n",
        "                callbacks = [checkpoint, early])"
      ],
      "metadata": {
        "id": "i_hbPv1lmzes"
      },
      "execution_count": null,
      "outputs": []
    },
    {
      "cell_type": "code",
      "source": [
        "t1 = datetime.datetime.now()\n",
        "print(t1-t0)"
      ],
      "metadata": {
        "id": "H_jRItTlm5vU"
      },
      "execution_count": null,
      "outputs": []
    },
    {
      "cell_type": "code",
      "source": [
        "# save model\n",
        "from tensorflow.keras.models import load_model\n",
        "# Creates a HDF5 file 'my_model.h5'\n",
        "model_final.save('my_vgg16.h5')\n",
        "print(\"save!!!\")"
      ],
      "metadata": {
        "id": "FkXLHnkwm7iU"
      },
      "execution_count": null,
      "outputs": []
    },
    {
      "cell_type": "code",
      "source": [
        "#Making new predictions\n",
        "from tensorflow.keras.models import load_model\n",
        "classifier = load_model('my_vgg16.h5')\n",
        "import numpy as np\n",
        "from tensorflow.keras.preprocessing import image"
      ],
      "metadata": {
        "id": "3yBLKmJ6nCuc"
      },
      "execution_count": null,
      "outputs": []
    },
    {
      "cell_type": "code",
      "source": [
        "test_image = image.load_img('dataset/single_prediction/cat2.jpg',\n",
        "target_size = (224, 224))\n",
        "test_image = image.img_to_array(test_image)\n",
        "test_image = np.expand_dims(test_image, axis = 0)\n",
        "result = classifier.predict(test_image)\n",
        "print(result)\n",
        "#training_set.class_indices\n",
        "if result[0][0] > result[0][1]:\n",
        "  prediction = 'cat'\n",
        "else:\n",
        "  prediction = 'dog'\n",
        "print(prediction)"
      ],
      "metadata": {
        "id": "BVCodQi-nDu8"
      },
      "execution_count": null,
      "outputs": []
    },
    {
      "cell_type": "code",
      "source": [
        "%pylab inline\n",
        "import matplotlib.pyplot as plt\n",
        "import matplotlib.image as mpimg\n",
        "img=mpimg.imread('dataset/single_prediction/cat2.jpg')\n",
        "imgplot = plt.imshow(img)\n",
        "plt.show()"
      ],
      "metadata": {
        "id": "qh3eYHtpnIn0"
      },
      "execution_count": null,
      "outputs": []
    },
    {
      "cell_type": "code",
      "source": [
        "test_image = image.load_img('dataset/single_prediction/dog1.jpg',\n",
        "                            target_size = (224, 224))\n",
        "test_image = image.img_to_array(test_image)\n",
        "test_image = np.expand_dims(test_image, axis = 0)\n",
        "result = classifier.predict(test_image)\n",
        "print(result)\n",
        "#training_set.class_indices\n",
        "if result[0][0] > result[0][1]:\n",
        "  prediction = 'cat'\n",
        "else:\n",
        "  prediction = 'dog'\n",
        "print(prediction)"
      ],
      "metadata": {
        "id": "C8r7-JqnnKwL"
      },
      "execution_count": null,
      "outputs": []
    },
    {
      "cell_type": "code",
      "source": [
        "img=mpimg.imread('dataset/single_prediction/dog1.jpg')\n",
        "imgplot = plt.imshow(img)\n",
        "plt.show()"
      ],
      "metadata": {
        "id": "QUMxAde4nQ0b"
      },
      "execution_count": null,
      "outputs": []
    }
  ]
}