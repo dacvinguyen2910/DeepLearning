{
  "nbformat": 4,
  "nbformat_minor": 0,
  "metadata": {
    "colab": {
      "provenance": []
    },
    "kernelspec": {
      "name": "python3",
      "display_name": "Python 3"
    },
    "language_info": {
      "name": "python"
    }
  },
  "cells": [
    {
      "cell_type": "markdown",
      "source": [
        "TRANSFER LEARNING"
      ],
      "metadata": {
        "id": "zqGU_Yzsi_E8"
      }
    },
    {
      "cell_type": "code",
      "source": [
        "#Import lib\n",
        "import tensorflow as tf\n",
        "import numpy as np\n",
        "from tensorflow.keras.applications import vgg16,inception_v3,resnet50, mobilenet\n",
        "from tensorflow.keras.models import load_model\n"
      ],
      "metadata": {
        "id": "ssDk9PzPjQu8"
      },
      "execution_count": null,
      "outputs": []
    },
    {
      "cell_type": "code",
      "source": [
        "#Loading model:\n",
        "vgg_model = vgg16.VGG16(weights = 'imagenet')\n",
        "inception_model = inception_v3.InceptionV3(weights = 'imagenet')\n",
        "resnet_model = resnet50.ResNet50(weights = 'imagenet')\n",
        "mobilenet_model = mobilenet.MobileNet(weights = 'imagenet')\n"
      ],
      "metadata": {
        "id": "pkbxBcnjjBxE"
      },
      "execution_count": null,
      "outputs": []
    },
    {
      "cell_type": "code",
      "source": [
        "#Save model\n",
        "vgg_model.save('vgg_model.h5')\n",
        "inception_model.save('inception_model.h5')\n",
        "resnet_model.save('resnet_model.h5')\n",
        "mobilenet_model.save('mobilenet_model.h5')\n"
      ],
      "metadata": {
        "id": "hTnFzQ9MjXUU"
      },
      "execution_count": null,
      "outputs": []
    },
    {
      "cell_type": "code",
      "source": [
        "#Load model\n",
        "vgg_model = load_model('vgg_model.h5')\n",
        "inception_model = load_model('inception_model.h5')\n",
        "resnet_model = load_model('resnet_model.h5')\n",
        "mobilenet_model.load_model('mobilenet_model.h5')\n"
      ],
      "metadata": {
        "id": "m90wROLhja3U"
      },
      "execution_count": null,
      "outputs": []
    },
    {
      "cell_type": "code",
      "source": [
        "#Preprocessing:\n",
        "from tensorflow.keras.preprocessing.image import load_img\n",
        "from tensorflow.keras.preprocessing.image import img_to_array\n",
        "from tensorflow.keras.applications.imagenet_utils import decode_predictions\n",
        "import matplotlib.pyplot as plt\n",
        "%matplotlib inline\n"
      ],
      "metadata": {
        "id": "aEO7IRWgjeq0"
      },
      "execution_count": null,
      "outputs": []
    },
    {
      "cell_type": "code",
      "source": [
        "##load original image\n",
        "filename = 'dog_01.jpg'\n",
        "original = load_img(filename, target_size=(224,224))\n",
        "print('PIL image size',original.size)\n",
        "plt.imshow(original)\n",
        "plt.show()\n"
      ],
      "metadata": {
        "id": "TzGcPiK0jhC0"
      },
      "execution_count": null,
      "outputs": []
    },
    {
      "cell_type": "code",
      "source": [
        "## covert to array\n",
        "numpy_image = img_to_array(original)\n",
        "plt.imshow(np.uint8(numpy_image))\n",
        "plt.show()\n",
        "print('numpy_image size',numpy_image.shape)\n"
      ],
      "metadata": {
        "id": "otLbiteZjjO8"
      },
      "execution_count": null,
      "outputs": []
    },
    {
      "cell_type": "code",
      "source": [
        "## convert array to batch\n",
        "image_batch = np.expand_dims(numpy_image,axis = 0)\n",
        "print('image_batch size',image_batch.shape)\n",
        "plt.imshow(np.uint8(image_batch[0]))\n"
      ],
      "metadata": {
        "id": "_L9iiYcgjkuE"
      },
      "execution_count": null,
      "outputs": []
    },
    {
      "cell_type": "code",
      "source": [
        "#Predicting\n",
        "processed_image = vgg16.preprocess_input(image_batch.copy())\n",
        "predictions = vgg_model.predict(processed_image)\n",
        "label = decode_predictions(predictions)\n",
        "print(label)\n"
      ],
      "metadata": {
        "id": "q78vnwbZjnUs"
      },
      "execution_count": null,
      "outputs": []
    }
  ]
}