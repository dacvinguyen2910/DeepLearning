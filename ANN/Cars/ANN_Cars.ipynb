{
  "nbformat": 4,
  "nbformat_minor": 0,
  "metadata": {
    "colab": {
      "provenance": []
    },
    "kernelspec": {
      "name": "python3",
      "display_name": "Python 3"
    },
    "language_info": {
      "name": "python"
    }
  },
  "cells": [
    {
      "cell_type": "code",
      "execution_count": null,
      "metadata": {
        "id": "WHBzMUSC1A5t"
      },
      "outputs": [],
      "source": [
        "from google.colab import drive\n",
        "drive.mount(\"/content/gdrive\", force_remount=True)"
      ]
    },
    {
      "cell_type": "code",
      "source": [
        "%cd '/content/gdrive/My Drive../'"
      ],
      "metadata": {
        "id": "Ctf_gawD1KIT"
      },
      "execution_count": null,
      "outputs": []
    },
    {
      "cell_type": "code",
      "source": [
        "import warnings\n",
        "warnings.filterwarnings('ignore')"
      ],
      "metadata": {
        "id": "ItD1cXMT1Mwy"
      },
      "execution_count": null,
      "outputs": []
    },
    {
      "cell_type": "code",
      "source": [
        "import tensorflow as tf\n",
        "from tensorflow import keras"
      ],
      "metadata": {
        "id": "hQMqPpJ_1ONr"
      },
      "execution_count": null,
      "outputs": []
    },
    {
      "cell_type": "code",
      "source": [
        "import matplotlib.pyplot as plt\n",
        "import numpy as np\n",
        "import pandas as pd\n",
        "from sklearn.model_selection import train_test_split\n",
        "from sklearn.model_selection import KFold\n",
        "from sklearn.pipeline import Pipeline\n",
        "from sklearn.preprocessing import MinMaxScaler\n",
        "from tensorflow.keras import Sequential\n",
        "from tensorflow.keras.layers import Dense\n",
        "from tensorflow.keras.wrappers.scikit_learn import KerasRegressor"
      ],
      "metadata": {
        "id": "D19wTINC1Q0D"
      },
      "execution_count": null,
      "outputs": []
    },
    {
      "cell_type": "code",
      "source": [
        "# Load Dataset\n",
        "#Variables\n",
        "dataset=pd.read_csv(\"cars.csv\", delimiter=\",\", header=None)\n",
        "dataset.info()"
      ],
      "metadata": {
        "id": "uYz5BK131TuD"
      },
      "execution_count": null,
      "outputs": []
    },
    {
      "cell_type": "code",
      "source": [
        "dataset.head()"
      ],
      "metadata": {
        "id": "o1fJEyKz1W-r"
      },
      "execution_count": null,
      "outputs": []
    },
    {
      "cell_type": "code",
      "source": [
        "dataset.describe()"
      ],
      "metadata": {
        "id": "qkU-a9F51bxb"
      },
      "execution_count": null,
      "outputs": []
    },
    {
      "cell_type": "code",
      "source": [
        "x=dataset.iloc[:,0:5]\n",
        "y=dataset.iloc[:,5]\n",
        "print(type(x))\n",
        "print(type(y))"
      ],
      "metadata": {
        "id": "s8jsfX0r1fBz"
      },
      "execution_count": null,
      "outputs": []
    },
    {
      "cell_type": "code",
      "source": [
        "y=np.reshape(np.array(y), (-1,1))\n",
        "scaler_x = MinMaxScaler()\n",
        "scaler_y = MinMaxScaler()\n",
        "# print(scaler.fit(x))\n",
        "# print(scaler.fit(y))"
      ],
      "metadata": {
        "id": "7MipbLZg1g3z"
      },
      "execution_count": null,
      "outputs": []
    },
    {
      "cell_type": "code",
      "source": [
        "xscale=scaler_x.fit_transform(x)\n",
        "yscale=scaler_y.fit_transform(y)\n",
        "#print(xscale)\n",
        "#print(yscale)"
      ],
      "metadata": {
        "id": "UmgSHJgm1ib6"
      },
      "execution_count": null,
      "outputs": []
    },
    {
      "cell_type": "code",
      "source": [
        "# Keras Model Configuration: Neural Network API\n",
        "model = Sequential()\n",
        "model.add(Dense(3, input_dim=5, kernel_initializer='normal', activation='relu'))\n",
        "# model.add(Dense(12, input_dim=5, kernel_initializer='normal', activation='relu\n",
        "# first parameter is units: interger, nodes of output\n",
        "model.add(Dense(3, activation='relu'))\n",
        "model.add(Dense(1, activation='linear'))\n",
        "model.summary()"
      ],
      "metadata": {
        "id": "KTd4R3rU1khK"
      },
      "execution_count": null,
      "outputs": []
    },
    {
      "cell_type": "code",
      "source": [
        "model.compile(loss='mse', optimizer='adam', metrics=['mse','mae'])"
      ],
      "metadata": {
        "id": "gKSHc5vI1sIL"
      },
      "execution_count": null,
      "outputs": []
    },
    {
      "cell_type": "code",
      "source": [
        "# fit model\n",
        "history = model.fit(xscale, yscale, epochs=150,\n",
        "                    batch_size=32,\n",
        "                    verbose=1,\n",
        "                    validation_split=0.2)"
      ],
      "metadata": {
        "id": "nNi2zmBv1uSb"
      },
      "execution_count": null,
      "outputs": []
    },
    {
      "cell_type": "code",
      "source": [
        "print(history.history.keys())\n",
        "# \"Loss\"\n",
        "plt.plot(history.history['loss'])\n",
        "plt.plot(history.history['val_loss'])\n",
        "plt.title('model loss')\n",
        "plt.ylabel('loss')\n",
        "plt.xlabel('epoch')\n",
        "plt.legend(['train', 'validation'], loc='upper left')\n",
        "plt.show()"
      ],
      "metadata": {
        "id": "pfzBtaIp1yhb"
      },
      "execution_count": null,
      "outputs": []
    },
    {
      "cell_type": "code",
      "source": [
        "# Evaluate the model on the test data using `evaluate`\n",
        "print('\\n# Evaluate on test data')\n",
        "results = model.evaluate(xscale, yscale)\n",
        "print('loss, mse, mae:', results)"
      ],
      "metadata": {
        "id": "S8gO6cMD11WT"
      },
      "execution_count": null,
      "outputs": []
    },
    {
      "cell_type": "code",
      "source": [
        "# Predictions\n",
        "Xnew = np.array([[40, 0, 26, 9000, 8000]])\n",
        "X_new = scaler_x.transform(Xnew)\n",
        "ynew=model.predict(X_new)\n",
        "y_new = scaler_y.inverse_transform(ynew)\n",
        "print(\"X=%s, Predicted=%s\" % (Xnew[0], y_new[0]))"
      ],
      "metadata": {
        "id": "MRYatG9112_T"
      },
      "execution_count": null,
      "outputs": []
    }
  ]
}