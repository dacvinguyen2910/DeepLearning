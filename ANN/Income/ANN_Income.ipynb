{
  "nbformat": 4,
  "nbformat_minor": 0,
  "metadata": {
    "colab": {
      "provenance": []
    },
    "kernelspec": {
      "name": "python3",
      "display_name": "Python 3"
    },
    "language_info": {
      "name": "python"
    }
  },
  "cells": [
    {
      "cell_type": "markdown",
      "source": [
        "Predict Hourly Wage\n",
        "https://www.kaggle.com/c/predict-hourly-wage/data (https://www.kaggle.com/c/predict-hourlywage/data)"
      ],
      "metadata": {
        "id": "3GOgXs_33Qxj"
      }
    },
    {
      "cell_type": "code",
      "execution_count": null,
      "metadata": {
        "id": "RTc3Fiod3QIj"
      },
      "outputs": [],
      "source": [
        "from google.colab import drive\n",
        "drive.mount(\"/content/gdrive\", force_remount=True)"
      ]
    },
    {
      "cell_type": "code",
      "source": [
        "%cd '/content/gdrive/My Drive/.../'"
      ],
      "metadata": {
        "id": "phywvDjo3fwI"
      },
      "execution_count": null,
      "outputs": []
    },
    {
      "cell_type": "code",
      "source": [
        "import warnings\n",
        "warnings.filterwarnings('ignore')"
      ],
      "metadata": {
        "id": "KPoPafvr3iz7"
      },
      "execution_count": null,
      "outputs": []
    },
    {
      "cell_type": "code",
      "source": [
        "# Import\n",
        "import tensorflow as tf\n",
        "from tensorflow import keras\n",
        "from tensorflow.keras import Sequential\n",
        "from tensorflow.keras.layers import Dense\n",
        "import numpy as np\n",
        "import pandas as pd"
      ],
      "metadata": {
        "id": "XrHWvkOI3kSS"
      },
      "execution_count": null,
      "outputs": []
    },
    {
      "cell_type": "code",
      "source": [
        "df = pd.read_csv(\"all/Income_training.csv\")"
      ],
      "metadata": {
        "id": "Lx3n1qiF3m5j"
      },
      "execution_count": null,
      "outputs": []
    },
    {
      "cell_type": "code",
      "source": [
        "df.info()"
      ],
      "metadata": {
        "id": "0QYMSM8W3oVL"
      },
      "execution_count": null,
      "outputs": []
    },
    {
      "cell_type": "code",
      "source": [
        "df.head()"
      ],
      "metadata": {
        "id": "4AIxTCmO3qGS"
      },
      "execution_count": null,
      "outputs": []
    },
    {
      "cell_type": "code",
      "source": [
        "#create a dataframe with all training data except the target column\n",
        "train_X = df.drop(columns=['compositeHourlyWages'])\n",
        "#check that the target variable has been removed\n",
        "train_X.head()"
      ],
      "metadata": {
        "id": "VV-5x6eq3rpK"
      },
      "execution_count": null,
      "outputs": []
    },
    {
      "cell_type": "code",
      "source": [
        "#create a dataframe with only the target column\n",
        "train_y = df[['compositeHourlyWages']]\n",
        "#view dataframe\n",
        "train_y.head()"
      ],
      "metadata": {
        "id": "2tCYaoQ13tA6"
      },
      "execution_count": null,
      "outputs": []
    },
    {
      "cell_type": "code",
      "source": [
        "#get number of columns in training data\n",
        "n_cols = train_X.shape[1]\n",
        "print(n_cols)"
      ],
      "metadata": {
        "id": "OS8uqxdI3um7"
      },
      "execution_count": null,
      "outputs": []
    },
    {
      "cell_type": "code",
      "source": [
        "#create model\n",
        "model = Sequential()\n",
        "#add model layers\n",
        "model.add(Dense(16, activation='relu', input_shape=(n_cols,))) # (3+1)^2\n",
        "model.add(Dense(8, activation='relu'))\n",
        "model.add(Dense(8, activation='relu')) # improve for advance learning\n",
        "model.add(Dense(1))"
      ],
      "metadata": {
        "id": "t2Jt2XHY3wdy"
      },
      "execution_count": null,
      "outputs": []
    },
    {
      "cell_type": "markdown",
      "source": [
        "As you increase the number of nodes and layers in a model, the model capacity increases.\n",
        "Increasing model capacity can lead to a more accurate model, up to a certain point, at which\n",
        "the model will stop improving. Generally, the more training data you provide, the larger the\n",
        "model should be. We are only using a tiny amount of data, so our model is pretty small. The\n",
        "larger the model, the more computational capacity it requires and it will take longer to train."
      ],
      "metadata": {
        "id": "Er2HfZu132gj"
      }
    },
    {
      "cell_type": "code",
      "source": [
        "#compile model using mse as a measure of model performance\n",
        "model.compile(optimizer='adam', loss='mean_squared_error')"
      ],
      "metadata": {
        "id": "qN7Fk3vS3z8z"
      },
      "execution_count": null,
      "outputs": []
    },
    {
      "cell_type": "code",
      "source": [
        "from tensorflow.keras.callbacks import EarlyStopping\n",
        "#set early stopping monitor so the model stops training when it won't improve any\n",
        "early_stopping_monitor = EarlyStopping(patience=10)\n",
        "#train model\n",
        "history = model.fit(train_X, train_y,\n",
        "                    epochs=300,\n",
        "                    batch_size=32,\n",
        "                    validation_split=0.2,\n",
        "                    callbacks=[early_stopping_monitor])"
      ],
      "metadata": {
        "id": "-_qib4Xt34jS"
      },
      "execution_count": null,
      "outputs": []
    },
    {
      "cell_type": "code",
      "source": [
        "import matplotlib.pyplot as plt"
      ],
      "metadata": {
        "id": "mCSAHwdl3__a"
      },
      "execution_count": null,
      "outputs": []
    },
    {
      "cell_type": "code",
      "source": [
        "print(history.history.keys())\n",
        "# \"Loss\"\n",
        "plt.plot(history.history['loss'])\n",
        "plt.plot(history.history['val_loss'])\n",
        "plt.title('model loss')\n",
        "plt.ylabel('loss')\n",
        "plt.xlabel('epoch')\n",
        "plt.legend(['train', 'validation'], loc='upper left')\n",
        "plt.show()"
      ],
      "metadata": {
        "id": "q6S8o1DD34qa"
      },
      "execution_count": null,
      "outputs": []
    },
    {
      "cell_type": "code",
      "source": [
        "# evaluate the model\n",
        "scores = model.evaluate(train_X, train_y)\n",
        "print(scores)"
      ],
      "metadata": {
        "id": "o8RNoCBu4DMk"
      },
      "execution_count": null,
      "outputs": []
    },
    {
      "cell_type": "code",
      "source": [
        "# Making predict on new data\n",
        "df_test = pd.read_csv(\"all/Income_testing.csv\")\n",
        "df_test.info()"
      ],
      "metadata": {
        "id": "FUKUzAjc4E6y"
      },
      "execution_count": null,
      "outputs": []
    },
    {
      "cell_type": "code",
      "source": [
        "df_test.head()"
      ],
      "metadata": {
        "id": "8_KbP-fI4GWb"
      },
      "execution_count": null,
      "outputs": []
    },
    {
      "cell_type": "code",
      "source": [
        "test_X = df_test.drop(columns=[\"ID\"])"
      ],
      "metadata": {
        "id": "pf-R7jSV4H-y"
      },
      "execution_count": null,
      "outputs": []
    },
    {
      "cell_type": "code",
      "source": [
        "test_y_predictions = model.predict(test_X)"
      ],
      "metadata": {
        "id": "3eti6Nga4JUi"
      },
      "execution_count": null,
      "outputs": []
    },
    {
      "cell_type": "code",
      "source": [
        "test_y_predictions[:10]"
      ],
      "metadata": {
        "id": "M1DE2wUY4KqT"
      },
      "execution_count": null,
      "outputs": []
    }
  ]
}