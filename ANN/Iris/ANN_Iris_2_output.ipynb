{
  "nbformat": 4,
  "nbformat_minor": 0,
  "metadata": {
    "colab": {
      "provenance": []
    },
    "kernelspec": {
      "name": "python3",
      "display_name": "Python 3"
    },
    "language_info": {
      "name": "python"
    }
  },
  "cells": [
    {
      "cell_type": "markdown",
      "source": [
        "Iris 2 outputs - ANN"
      ],
      "metadata": {
        "id": "mgWDeSyt9xtJ"
      }
    },
    {
      "cell_type": "code",
      "execution_count": null,
      "metadata": {
        "id": "fC5rKLdB9xA1"
      },
      "outputs": [],
      "source": [
        "import pandas as pd\n",
        "from sklearn.datasets import load_iris\n",
        "from tensorflow.keras.layers import Dense\n",
        "from tensorflow.keras import Input, Model\n",
        "import tensorflow as tf"
      ]
    },
    {
      "cell_type": "code",
      "source": [
        "data = pd.read_excel(\"Iris.xls\")"
      ],
      "metadata": {
        "id": "Ghjruoqx95Ak"
      },
      "execution_count": null,
      "outputs": []
    },
    {
      "cell_type": "code",
      "source": [
        "data"
      ],
      "metadata": {
        "id": "41VlYJ7I97Es"
      },
      "execution_count": null,
      "outputs": []
    },
    {
      "cell_type": "code",
      "source": [
        "iris_class = {'Iris-setosa':0, 'Iris-versicolor':1, 'Iris-virginica':2}\n",
        "data['species_num'] = [iris_class[i] for i in data.iris]\n",
        "data.head()"
      ],
      "metadata": {
        "id": "oQ8SVKLm99K8"
      },
      "execution_count": null,
      "outputs": []
    },
    {
      "cell_type": "code",
      "source": [
        "df_train = data.sample(frac=0.7, random_state=0)\n",
        "df_valid = data.drop(df_train.index)"
      ],
      "metadata": {
        "id": "GZ-aLSGN9-5R"
      },
      "execution_count": null,
      "outputs": []
    },
    {
      "cell_type": "code",
      "source": [
        "X_train = df_train.drop(['petallength', 'iris', 'species_num'], axis=1)\n",
        "X_valid = df_valid.drop(['petallength', 'iris', 'species_num'], axis=1)\n",
        "y_train = df_train['petallength']\n",
        "y_valid = df_valid['petallength']\n",
        "z_train = df_train['species_num']\n",
        "z_valid = df_valid['species_num']"
      ],
      "metadata": {
        "id": "OaI2vGsY-Atp"
      },
      "execution_count": null,
      "outputs": []
    },
    {
      "cell_type": "code",
      "source": [
        "inputs = Input(shape=(3,), name='input')\n",
        "x = Dense(16, activation='relu', name='16')(inputs)\n",
        "x = Dense(32, activation='relu', name='32')(x)\n",
        "output1 = Dense(1, name='cont_out')(x)\n",
        "output2 = Dense(3, activation='softmax', name='cat_out')(x)"
      ],
      "metadata": {
        "id": "VDxbMPhr-Chy"
      },
      "execution_count": null,
      "outputs": []
    },
    {
      "cell_type": "code",
      "source": [
        "model = Model(inputs=inputs, outputs=[output1, output2])"
      ],
      "metadata": {
        "id": "XFecr4gW-ERa"
      },
      "execution_count": null,
      "outputs": []
    },
    {
      "cell_type": "code",
      "source": [
        "model.compile(loss={'cont_out': 'mean_absolute_error',\n",
        "                'cat_out': 'sparse_categorical_crossentropy'},\n",
        "                optimizer='adam',\n",
        ")"
      ],
      "metadata": {
        "id": "05SkW_2u-F-R"
      },
      "execution_count": null,
      "outputs": []
    },
    {
      "cell_type": "code",
      "source": [
        "model.summary()"
      ],
      "metadata": {
        "id": "h9Ppm3B9-KCq"
      },
      "execution_count": null,
      "outputs": []
    },
    {
      "cell_type": "code",
      "source": [
        "history = model.fit(X_train, {'cont_out': y_train, 'cat_out': z_train},\n",
        "                    validation_data=(X_valid,\n",
        "                    {'cont_out': y_valid, 'cat_out': z_valid}),\n",
        "                    epochs=100,\n",
        "                    batch_size=32)"
      ],
      "metadata": {
        "id": "M2FqzWCv-MEp"
      },
      "execution_count": null,
      "outputs": []
    },
    {
      "cell_type": "code",
      "source": [
        "history_df = pd.DataFrame(history.history)\n",
        "history_df"
      ],
      "metadata": {
        "id": "WlmjWro4-RPS"
      },
      "execution_count": null,
      "outputs": []
    },
    {
      "cell_type": "code",
      "source": [
        "history_df.loc[:, ['loss', 'cont_out_loss', 'cat_out_loss']].plot()\n",
        "print(\"Minimum loss: {}\".format(history_df['loss'].min()))"
      ],
      "metadata": {
        "id": "HHxpmCN4-TFy"
      },
      "execution_count": null,
      "outputs": []
    },
    {
      "cell_type": "code",
      "source": [
        "y_z_hat_valid = model.predict(X_valid)"
      ],
      "metadata": {
        "id": "e7cOvTZb-Uv6"
      },
      "execution_count": null,
      "outputs": []
    },
    {
      "cell_type": "code",
      "source": [
        "y_z_hat_valid[0][0:5]"
      ],
      "metadata": {
        "id": "WQ1rAI4I-WJi"
      },
      "execution_count": null,
      "outputs": []
    },
    {
      "cell_type": "code",
      "source": [
        "y_z_hat_valid[1][0:5]"
      ],
      "metadata": {
        "id": "GCF0-wsm-Xza"
      },
      "execution_count": null,
      "outputs": []
    },
    {
      "cell_type": "code",
      "source": [
        "y_z_hat_valid[1][-5:]"
      ],
      "metadata": {
        "id": "c__G4rnF-ZoJ"
      },
      "execution_count": null,
      "outputs": []
    },
    {
      "cell_type": "code",
      "source": [
        "import numpy as np"
      ],
      "metadata": {
        "id": "ko8Lw66F-b3S"
      },
      "execution_count": null,
      "outputs": []
    },
    {
      "cell_type": "code",
      "source": [
        "index_array = np.argmax(y_z_hat_valid[1], axis=-1)"
      ],
      "metadata": {
        "id": "hdfdOGbr-d9a"
      },
      "execution_count": null,
      "outputs": []
    },
    {
      "cell_type": "code",
      "source": [
        "index_array[:5]"
      ],
      "metadata": {
        "id": "lcav19W9-gMz"
      },
      "execution_count": null,
      "outputs": []
    },
    {
      "cell_type": "code",
      "source": [
        "index_array[-5:]"
      ],
      "metadata": {
        "id": "AmyvDBhK-iDC"
      },
      "execution_count": null,
      "outputs": []
    },
    {
      "cell_type": "code",
      "source": [
        "y_valid[:5]"
      ],
      "metadata": {
        "id": "FUoF10xj-kg6"
      },
      "execution_count": null,
      "outputs": []
    },
    {
      "cell_type": "code",
      "source": [
        "z_valid[:5]"
      ],
      "metadata": {
        "id": "MKwQPX0w-l1y"
      },
      "execution_count": null,
      "outputs": []
    },
    {
      "cell_type": "code",
      "source": [
        "z_valid[-5:]"
      ],
      "metadata": {
        "id": "gN8K2FGL-naS"
      },
      "execution_count": null,
      "outputs": []
    }
  ]
}