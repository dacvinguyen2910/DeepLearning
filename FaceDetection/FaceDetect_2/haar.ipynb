{
  "nbformat": 4,
  "nbformat_minor": 0,
  "metadata": {
    "colab": {
      "provenance": []
    },
    "kernelspec": {
      "name": "python3",
      "display_name": "Python 3"
    },
    "language_info": {
      "name": "python"
    }
  },
  "cells": [
    {
      "cell_type": "code",
      "execution_count": null,
      "metadata": {
        "id": "q4oLSFJs_ngu"
      },
      "outputs": [],
      "source": [
        "import warnings\n",
        "warnings.filterwarnings('ignore')"
      ]
    },
    {
      "cell_type": "code",
      "source": [
        "from google.colab import drive\n",
        "drive.mount(\"/content/gdrive\", force_remount=True)"
      ],
      "metadata": {
        "id": "WT75Z5Dc_svX"
      },
      "execution_count": null,
      "outputs": []
    },
    {
      "cell_type": "code",
      "source": [
        "%cd '/content/gdrive/My Drive/../'"
      ],
      "metadata": {
        "id": "PrdkAS5n_uSm"
      },
      "execution_count": null,
      "outputs": []
    },
    {
      "cell_type": "code",
      "source": [
        "Download source\n",
        "https://github.com/opencv/opencv/tree/master/data/haarcascades"
      ],
      "metadata": {
        "id": "6kI-8E9p60iS"
      },
      "execution_count": null,
      "outputs": []
    },
    {
      "cell_type": "code",
      "source": [
        "#import OpenCV library\n",
        "import cv2\n",
        "#import matplotlib library\n",
        "import matplotlib.pyplot as plt\n",
        "#importing time library for speed comparisons of both classifiers\n",
        "import time\n",
        "%matplotlib inline"
      ],
      "metadata": {
        "id": "zOCwNaai_zhW"
      },
      "execution_count": null,
      "outputs": []
    },
    {
      "cell_type": "code",
      "source": [
        "def convertToRGB(img):\n",
        "  return cv2.cvtColor(img, cv2.COLOR_BGR2RGB)"
      ],
      "metadata": {
        "id": "_vC2b6x3_0M-"
      },
      "execution_count": null,
      "outputs": []
    },
    {
      "cell_type": "code",
      "source": [
        "#load test image\n",
        "test1 = cv2.imread('baby.jpg')\n",
        "#convert the test image to gray image as opencv face detector expects gray images\n",
        "gray_img = cv2.cvtColor(test1, cv2.COLOR_BGR2GRAY)"
      ],
      "metadata": {
        "id": "at56IkjC_8de"
      },
      "execution_count": null,
      "outputs": []
    },
    {
      "cell_type": "code",
      "source": [
        "#if you have matplotlib installed then\n",
        "plt.imshow(gray_img, cmap='gray')\n",
        "# or display the gray image using OpenCV\n",
        "cv2.imshow('Test Imag', gray_img)\n",
        "cv2.waitKey(0)\n",
        "cv2.destroyAllWindows()"
      ],
      "metadata": {
        "id": "Bv3570h37EsV"
      },
      "execution_count": null,
      "outputs": []
    },
    {
      "cell_type": "code",
      "source": [
        "#load cascade classifier training file for haarcascade\n",
        "haar_face_cascade = cv2.CascadeClassifier('haarcascade_frontalface_default.xml')"
      ],
      "metadata": {
        "id": "IRlVIiIQ7HxC"
      },
      "execution_count": null,
      "outputs": []
    },
    {
      "cell_type": "code",
      "source": [
        "faces = haar_face_cascade.detectMultiScale(gray_img,\n",
        "scaleFactor=1.1,\n",
        "minNeighbors=5)"
      ],
      "metadata": {
        "id": "EmTV2ZOl7Jxj"
      },
      "execution_count": null,
      "outputs": []
    },
    {
      "cell_type": "code",
      "source": [
        "#print the number of faces found\n",
        "print('Faces found: ', len(faces))"
      ],
      "metadata": {
        "id": "M6NwoUqd7M5j"
      },
      "execution_count": null,
      "outputs": []
    },
    {
      "cell_type": "code",
      "source": [
        "# go over list of faces and draw them as rectangles on original colored img\n",
        "for (x, y, w, h) in faces:\n",
        "  cv2.rectangle(test1, (x, y), (x+w, y+h), (0, 255, 0), 2)"
      ],
      "metadata": {
        "id": "I_1feqQ-7OdK"
      },
      "execution_count": null,
      "outputs": []
    },
    {
      "cell_type": "code",
      "source": [
        "#convert image to RGB and show image\n",
        "plt.imshow(convertToRGB(test1))"
      ],
      "metadata": {
        "id": "mo2c6DPS7QOb"
      },
      "execution_count": null,
      "outputs": []
    },
    {
      "cell_type": "code",
      "source": [
        "def detect_faces(f_cascade, colored_img, scaleFactor = 1.1):\n",
        "  #just making a copy of image passed, so that passed image is not changed\n",
        "  img_copy = colored_img.copy()\n",
        "  #convert the test image to gray image as opencv face detector expects gray im\n",
        "  gray = cv2.cvtColor(img_copy, cv2.COLOR_BGR2GRAY)\n",
        "  #let's detect multiscale (some images may be closer to camera than others) im\n",
        "  faces = f_cascade.detectMultiScale(gray, scaleFactor=scaleFactor,\n",
        "                                    minNeighbors=5)\n",
        "  faces_found = len(faces)\n",
        "  #go over list of faces and draw them as rectangles on original colored img\n",
        "  for (x, y, w, h) in faces:\n",
        "    cv2.rectangle(img_copy, (x, y), (x+w, y+h), (0, 255, 0), 2)\n",
        "  return img_copy, faces_found"
      ],
      "metadata": {
        "id": "mUm2mJM67Tuy"
      },
      "execution_count": null,
      "outputs": []
    },
    {
      "cell_type": "code",
      "source": [
        "#load another image\n",
        "test2 = cv2.imread('baby2.jpg')\n",
        "#call our function to detect faces\n",
        "faces_detected_img, faces_found = detect_faces(haar_face_cascade, test2)"
      ],
      "metadata": {
        "id": "qUnIwjtz7cXK"
      },
      "execution_count": null,
      "outputs": []
    },
    {
      "cell_type": "code",
      "source": [
        "plt.imshow(convertToRGB(faces_detected_img))"
      ],
      "metadata": {
        "id": "IPhZeVDY7ePK"
      },
      "execution_count": null,
      "outputs": []
    },
    {
      "cell_type": "code",
      "source": [
        "#print the number of faces found\n",
        "print('Faces found: ', faces_found)"
      ],
      "metadata": {
        "id": "J493S6Nt7f9y"
      },
      "execution_count": null,
      "outputs": []
    },
    {
      "cell_type": "code",
      "source": [
        "#load another image\n",
        "test3 = cv2.imread('triple.jpg')\n",
        "#call our function to detect faces\n",
        "faces_detected_img_3, faces_found_3 = detect_faces(haar_face_cascade,\n",
        "                                                  test3,\n",
        "                                                  scaleFactor = 1.15)\n",
        "#convert image to RGB and show image\n",
        "plt.imshow(convertToRGB(faces_detected_img_3))"
      ],
      "metadata": {
        "id": "1P6RouvT7h7C"
      },
      "execution_count": null,
      "outputs": []
    },
    {
      "cell_type": "code",
      "source": [
        "#print the number of faces found\n",
        "print('Faces found: ', faces_found)"
      ],
      "metadata": {
        "id": "qHX-1bLe7ma6"
      },
      "execution_count": null,
      "outputs": []
    },
    {
      "cell_type": "code",
      "source": [
        "#load cascade classifier training file for lbpcascade\n",
        "lbp_face_cascade = cv2.CascadeClassifier('lbpcascade_frontalface.xml')"
      ],
      "metadata": {
        "id": "W5bsIgJH7vDr"
      },
      "execution_count": null,
      "outputs": []
    },
    {
      "cell_type": "code",
      "source": [
        "#call our function to detect faces\n",
        "#load another image\n",
        "test3 = cv2.imread('triple.jpg')\n",
        "faces_detected_img_4, faces_found_4 = detect_faces(lbp_face_cascade,\n",
        "                                                    test3,\n",
        "                                                    scaleFactor = 1.05)"
      ],
      "metadata": {
        "id": "p24nLnhx7wtq"
      },
      "execution_count": null,
      "outputs": []
    },
    {
      "cell_type": "code",
      "source": [
        "#convert image to RGB and show image\n",
        "plt.imshow(convertToRGB(faces_detected_img_4))"
      ],
      "metadata": {
        "id": "qO-4BS2-706y"
      },
      "execution_count": null,
      "outputs": []
    }
  ]
}