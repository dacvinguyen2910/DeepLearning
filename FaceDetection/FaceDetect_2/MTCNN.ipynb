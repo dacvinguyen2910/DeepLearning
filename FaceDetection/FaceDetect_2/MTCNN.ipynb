{
  "nbformat": 4,
  "nbformat_minor": 0,
  "metadata": {
    "colab": {
      "provenance": []
    },
    "kernelspec": {
      "name": "python3",
      "display_name": "Python 3"
    },
    "language_info": {
      "name": "python"
    }
  },
  "cells": [
    {
      "cell_type": "code",
      "execution_count": null,
      "metadata": {
        "id": "q4oLSFJs_ngu"
      },
      "outputs": [],
      "source": [
        "import warnings\n",
        "warnings.filterwarnings('ignore')"
      ]
    },
    {
      "cell_type": "code",
      "source": [
        "from google.colab import drive\n",
        "drive.mount(\"/content/gdrive\", force_remount=True)"
      ],
      "metadata": {
        "id": "WT75Z5Dc_svX"
      },
      "execution_count": null,
      "outputs": []
    },
    {
      "cell_type": "code",
      "source": [
        "%cd '/content/gdrive/My Drive/../'"
      ],
      "metadata": {
        "id": "PrdkAS5n_uSm"
      },
      "execution_count": null,
      "outputs": []
    },
    {
      "cell_type": "code",
      "source": [
        "import warnings\n",
        "warnings.filterwarnings('ignore')"
      ],
      "metadata": {
        "id": "-KIU-sPn87NK"
      },
      "execution_count": null,
      "outputs": []
    },
    {
      "cell_type": "code",
      "source": [
        "import tensorflow as tf"
      ],
      "metadata": {
        "id": "gEqXOMuT88gy"
      },
      "execution_count": null,
      "outputs": []
    },
    {
      "cell_type": "code",
      "source": [
        "!pip install mtcnn"
      ],
      "metadata": {
        "id": "Ck2BzZxW89li"
      },
      "execution_count": null,
      "outputs": []
    },
    {
      "cell_type": "code",
      "source": [
        "import mtcnn"
      ],
      "metadata": {
        "id": "8zdRa3v19A1C"
      },
      "execution_count": null,
      "outputs": []
    },
    {
      "cell_type": "code",
      "source": [
        "from mtcnn.mtcnn import MTCNN\n",
        "import cv2\n",
        "from skimage import io\n",
        "import matplotlib.pyplot as plt"
      ],
      "metadata": {
        "id": "z9Udc2jf9DO6"
      },
      "execution_count": null,
      "outputs": []
    },
    {
      "cell_type": "code",
      "source": [
        "image = io.imread(\"group_of_people.jpg\")\n",
        "plt.imshow(image)"
      ],
      "metadata": {
        "id": "gsesVdU-9E-C"
      },
      "execution_count": null,
      "outputs": []
    },
    {
      "cell_type": "code",
      "source": [
        "detector = MTCNN()\n",
        "result = detector.detect_faces(image)"
      ],
      "metadata": {
        "id": "y6ZLoRl49GuC"
      },
      "execution_count": null,
      "outputs": []
    },
    {
      "cell_type": "code",
      "source": [
        "result"
      ],
      "metadata": {
        "id": "pxtJ9kIE9Iji"
      },
      "execution_count": null,
      "outputs": []
    },
    {
      "cell_type": "code",
      "source": [
        "# first face information\n",
        "bounding_box = result[0]['box']\n",
        "keypoints = result[0]['keypoints']\n",
        "print(bounding_box)\n",
        "print(keypoints)"
      ],
      "metadata": {
        "id": "u5mYCssA9KmS"
      },
      "execution_count": null,
      "outputs": []
    },
    {
      "cell_type": "code",
      "source": [
        "for person in result:\n",
        "  bounding_box = person['box']\n",
        "  keypoints = person['keypoints']\n",
        "  # ve bouding box\n",
        "  # (hinh, diem dau, diem cuoi, mau sac, do day duong)\n",
        "  cv2.rectangle(image, # hinh\n",
        "                (bounding_box[0], bounding_box[1]), # diem dau\n",
        "                (bounding_box[0]+bounding_box[2],\n",
        "                bounding_box[1] + bounding_box[3]), # diem cuoi\n",
        "                (0,0,255), 1) # mau sac, do day\n",
        "                # ve diem dai dien cho mat, mui mieng\n",
        "                # ve diem: hinh, vi tri, ban kinh, mau sac, do dam net\n",
        "  cv2.circle(image,(keypoints['left_eye']), 2, (0,0,255), 1) # hinh, vi tri, ba\n",
        "  cv2.circle(image,(keypoints['right_eye']), 2, (0,0,255), 1)\n",
        "  cv2.circle(image,(keypoints['nose']), 2, (0,0,255), 1)\n",
        "  cv2.circle(image,(keypoints['mouth_left']), 2, (0,0,255), 1)\n",
        "  cv2.circle(image,(keypoints['mouth_right']), 2, (0,0,255), 1)"
      ],
      "metadata": {
        "id": "9fqieBMU9NDa"
      },
      "execution_count": null,
      "outputs": []
    },
    {
      "cell_type": "code",
      "source": [
        "plt.imshow(image)\n",
        "plt.show()"
      ],
      "metadata": {
        "id": "mQkCvEGf9bWL"
      },
      "execution_count": null,
      "outputs": []
    },
    {
      "cell_type": "code",
      "source": [
        "# Video face detection\n",
        "cap = cv2.VideoCapture(0)\n",
        "while True:\n",
        "  #Capture frame-by-frame\n",
        "  __, frame = cap.read()\n",
        "  #Use MTCNN to detect faces\n",
        "  result = detector.detect_faces(frame)\n",
        "  if result != []:\n",
        "    for person in result:\n",
        "      bounding_box = person['box']\n",
        "      keypoints = person['keypoints']\n",
        "      cv2.rectangle(frame,\n",
        "                    (bounding_box[0], bounding_box[1]),\n",
        "                    (bounding_box[0]+bounding_box[2],\n",
        "                    bounding_box[1] + bounding_box[3]),\n",
        "                    (0,155,255),\n",
        "                    2)\n",
        "      cv2.circle(frame,(keypoints['left_eye']), 2, (0,155,255), 2)\n",
        "      cv2.circle(frame,(keypoints['right_eye']), 2, (0,155,255), 2)\n",
        "      cv2.circle(frame,(keypoints['nose']), 2, (0,155,255), 2)\n",
        "      cv2.circle(frame,(keypoints['mouth_left']), 2, (0,155,255), 2)\n",
        "      cv2.circle(frame,(keypoints['mouth_right']), 2, (0,155,255), 2)\n",
        "#display resulting frame\n",
        "  cv2.imshow('frame',frame)\n",
        "  if cv2.waitKey(1) &0xFF == ord('q'):\n",
        "    break #When everything's done, release capture\n",
        "cap.release()\n",
        "cv2.destroyAllWindows()"
      ],
      "metadata": {
        "id": "jZDumKnM9erS"
      },
      "execution_count": null,
      "outputs": []
    }
  ]
}