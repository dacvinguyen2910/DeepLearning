{
  "nbformat": 4,
  "nbformat_minor": 0,
  "metadata": {
    "colab": {
      "provenance": []
    },
    "kernelspec": {
      "name": "python3",
      "display_name": "Python 3"
    },
    "language_info": {
      "name": "python"
    }
  },
  "cells": [
    {
      "cell_type": "markdown",
      "source": [
        "CNN"
      ],
      "metadata": {
        "id": "mgWDeSyt9xtJ"
      }
    },
    {
      "cell_type": "code",
      "execution_count": null,
      "metadata": {
        "id": "fC5rKLdB9xA1"
      },
      "outputs": [],
      "source": [
        "import tensorflow as tf\n",
        "from tensorflow import keras\n",
        "from tensorflow.keras import Sequential\n",
        "from tensorflow.keras.layers import Conv2D\n",
        "from tensorflow.keras.layers import MaxPooling2D\n",
        "from tensorflow.keras.layers import Flatten\n",
        "from tensorflow.keras.layers import Dense\n",
        "from tensorflow.keras.preprocessing.image import ImageDataGenerator\n",
        "from tensorflow.keras.callbacks import EarlyStopping, ModelCheckpoint\n",
        "from datetime import datetime\n",
        "from tensorflow.keras.utils import plot_model\n",
        "from IPython.display import Image\n",
        "from tensorflow.keras.models import load_model\n"
      ]
    },
    {
      "cell_type": "code",
      "source": [
        "%cd '/content/gdrive/My Drive/.../'"
      ],
      "metadata": {
        "id": "izMpFHXNCsva"
      },
      "execution_count": null,
      "outputs": []
    },
    {
      "cell_type": "code",
      "source": [
        "import warnings\n",
        "warnings.filterwarnings('ignore')"
      ],
      "metadata": {
        "id": "W4-YW979Cvtq"
      },
      "execution_count": null,
      "outputs": []
    },
    {
      "cell_type": "code",
      "source": [
        "#Create Network\n",
        "classifier = Sequential()"
      ],
      "metadata": {
        "id": "kX9zdqatCwda"
      },
      "execution_count": null,
      "outputs": []
    },
    {
      "cell_type": "code",
      "source": [
        "#Step 1: Convolution\n",
        "classifier.add(Conv2D(filters = 32,kernel_size = 3,input_shape=(64,64,3),activation = 'relu'))"
      ],
      "metadata": {
        "id": "Ghjruoqx95Ak"
      },
      "execution_count": null,
      "outputs": []
    },
    {
      "cell_type": "code",
      "source": [
        "#Step 2: Pooling\n",
        "classifier.add(MaxPooling2D(pool_size=(2,2)))"
      ],
      "metadata": {
        "id": "icuMtXBNYvi3"
      },
      "execution_count": null,
      "outputs": []
    },
    {
      "cell_type": "code",
      "source": [
        "#Adding second covolution layer\n",
        "classifier.add(Conv2D(filters = 32,kernel_size = 3,activation = 'relu'))\n",
        "classifier.add(MaxPooling2D(pool_size=(2,2)))\n"
      ],
      "metadata": {
        "id": "41VlYJ7I97Es"
      },
      "execution_count": null,
      "outputs": []
    },
    {
      "cell_type": "code",
      "source": [
        "#Step 3: Flattenning\n",
        "classifier.add(Flatten())\n"
      ],
      "metadata": {
        "id": "A6reaqzSY3Ts"
      },
      "execution_count": null,
      "outputs": []
    },
    {
      "cell_type": "code",
      "source": [
        "#Step 4: Full Connection\n",
        "classifier.add(Dense(units = 128, activation = 'relu'))\n",
        "classifier.add(Dense(units = 1, activation = 'sigmoid'))/nếu 3 class thì đổi thành softmax\n",
        "classifier.summary()\n"
      ],
      "metadata": {
        "id": "uSWD4CEvY5Zs"
      },
      "execution_count": null,
      "outputs": []
    },
    {
      "cell_type": "code",
      "source": [
        "#compiling CNN\n",
        "classifier.compile(optimizer='adam',\n",
        "                   loss = 'binary_crossentropy',\n",
        "                   metrics = ['accuracy'])\n"
      ],
      "metadata": {
        "id": "kxa929sGY7Ks"
      },
      "execution_count": null,
      "outputs": []
    },
    {
      "cell_type": "code",
      "source": [
        "#Read and Preprocessing Image\n",
        "from tensorflow.keras.preprocessing.image import ImageDataGenerator\n",
        "train_datagen = ImageDataGenerator(rescale = 1./255,\n",
        "                                   shear_range=0.2,\n",
        "                                   zoom_range=0.2,\n",
        "                                   horizontal_flip=True)\n",
        "test_datagen = ImageDataGenerator(rescale = 1./255)"
      ],
      "metadata": {
        "id": "ExRLRRw_Y9o8"
      },
      "execution_count": null,
      "outputs": []
    },
    {
      "cell_type": "code",
      "source": [
        "training_set=train_datagen.flow_from_directory('dataset/training_set',\n",
        "                                             target_size = (64,64),\n",
        "                                             batch_size = 32,\n",
        "                                             class_mode = 'binary') #if 3-> ‘categorical’\n",
        "test_set =test_datagen.flow_from_directory('dataset/test_set',\n",
        "                                              target_size = (64,64),\n",
        "                                              batch_size = 32,\n",
        "                                              class_mode = 'binary') #if 3-> ‘categorical’\n"
      ],
      "metadata": {
        "id": "CtnIuTeHZDOF"
      },
      "execution_count": null,
      "outputs": []
    },
    {
      "cell_type": "code",
      "source": [
        "#Fit CNN to Images\n",
        "from tensorflow.keras.callbacks import EarlyStopping, ModelCheckpoint\n",
        "callbacks = [EarlyStopping(monitor = 'val_loss',\n",
        "                           patience = 20),\n",
        "             ModelCheckpoint('model_checkpoit_20082021.h5',\n",
        "                             save_best_only = True)\n",
        "             ]\n",
        "from datetime import datetime\n",
        "d1 = datetime.datetime.now()\n",
        "history = classifier.fit(\n",
        "    training_set,\n",
        "    epochs = 100,\n",
        "    validation_data = test_set,\n",
        "    callbacks = callbacks\n",
        ")\n",
        "d2 = datetime.datetime.now()\n"
      ],
      "metadata": {
        "id": "Duk8seYBZLTu"
      },
      "execution_count": null,
      "outputs": []
    },
    {
      "cell_type": "code",
      "source": [
        "#Plot\n",
        "import pandas as pd\n",
        "history_frame = pd.DataFrame(history.history)\n",
        "history_frame.loc[:,['loss','val_loss']].plot()\n",
        "history_frame.loc[:,['accuracy','val_accuracy']].plot()\n",
        "from tensorflow.keras.utils import plot_model\n",
        "from IPython.display import Image\n",
        "plot_model(classifier,to_file='CNN_model_20082021.png',show_shape=True)\n",
        "Imag(filename = 'CNN_model_20082021.png')\n"
      ],
      "metadata": {
        "id": "gARZuQGyZOGN"
      },
      "execution_count": null,
      "outputs": []
    },
    {
      "cell_type": "code",
      "source": [
        "#Save model\n",
        "from tensorflow.keras.models import load_model\n",
        "classifier.save('my_model_CNN_20082021.h5')\n"
      ],
      "metadata": {
        "id": "arztJcxDZTM9"
      },
      "execution_count": null,
      "outputs": []
    },
    {
      "cell_type": "code",
      "source": [
        "#\tPrediction\n",
        "from tensorflow.keras.models import load_model\n",
        "classifier = load_model('my_model_CNN_20082021.h5')\n",
        "import numpy as np\n",
        "from tensorflow.keras.preprocessing import image\n",
        "test_image = image.load_image('dataset/single_prediction/cat_or_dog_2.jpg',\n",
        "                              target_size = (64,64))\n",
        "test_image = image.img_to_array(test_image)\n",
        "print(test_image.shape)\n",
        "test_image = test_image/255\n",
        "test_image = np.expand_dims(test_image,axis = 0)\n",
        "print(test_image.shape)\n",
        "result = classifier.predict(test_image)\n",
        "print(result)\n"
      ],
      "metadata": {
        "id": "4UUidUvRZVdF"
      },
      "execution_count": null,
      "outputs": []
    },
    {
      "cell_type": "code",
      "source": [
        "# 0: cat, 1: dog, sigmoid threshold = 0.5\n",
        "if result[0][0]>0.5:\n",
        "  prediction = 'dog'\n",
        "else:\n",
        "  prediction = 'cat'\n",
        "print(prediction)\n"
      ],
      "metadata": {
        "id": "xp8_wPtkZgbF"
      },
      "execution_count": null,
      "outputs": []
    },
    {
      "cell_type": "code",
      "source": [
        "#show image\n",
        "%pylab inline\n",
        "import matplotlib.pyplot as plt\n",
        "import matplotlib.image as mpimg\n",
        "img = mpimg.imread('dataset/single_prediction/cat_or_dog_2.jpg')\n",
        "imgplot = plt.imshow(img)\n",
        "plt.show()"
      ],
      "metadata": {
        "id": "IdQT5O2uZi3d"
      },
      "execution_count": null,
      "outputs": []
    }
  ]
}