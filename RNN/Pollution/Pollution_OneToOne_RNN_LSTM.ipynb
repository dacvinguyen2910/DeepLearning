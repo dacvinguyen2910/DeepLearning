{
  "nbformat": 4,
  "nbformat_minor": 0,
  "metadata": {
    "colab": {
      "provenance": []
    },
    "kernelspec": {
      "name": "python3",
      "display_name": "Python 3"
    },
    "language_info": {
      "name": "python"
    }
  },
  "cells": [
    {
      "cell_type": "markdown",
      "source": [
        "Air Pollution Forecasting - One To One - RNN LSTM"
      ],
      "metadata": {
        "id": "Ejz52Oe5B--d"
      }
    },
    {
      "cell_type": "markdown",
      "source": [
        "We can use this data and frame a forecasting problem where, given the\n",
        "pollution for prior hours, we forecast the pollution at the next hour"
      ],
      "metadata": {
        "id": "wx0Fm8IdCEiu"
      }
    },
    {
      "cell_type": "code",
      "execution_count": null,
      "metadata": {
        "id": "hGuDPtuEB-WL"
      },
      "outputs": [],
      "source": [
        "import warnings\n",
        "warnings.filterwarnings('ignore')"
      ]
    },
    {
      "cell_type": "code",
      "source": [
        "from google.colab import drive\n",
        "drive.mount(\"/content/gdrive\", force_remount=True)"
      ],
      "metadata": {
        "id": "rN9a1x4OCHJ2"
      },
      "execution_count": null,
      "outputs": []
    },
    {
      "cell_type": "code",
      "source": [
        "%cd '/content/gdrive/My Drive/../'"
      ],
      "metadata": {
        "id": "P17c5g55CLOO"
      },
      "execution_count": null,
      "outputs": []
    },
    {
      "cell_type": "code",
      "source": [
        "# LSTM for air pollution problem with regression framing\n",
        "import numpy\n",
        "import matplotlib.pyplot as plt\n",
        "import math\n",
        "import pandas as pd\n",
        "from tensorflow.keras import Sequential\n",
        "from tensorflow.keras.layers import Dense\n",
        "from tensorflow.keras.layers import LSTM\n",
        "from sklearn.preprocessing import MinMaxScaler\n",
        "from sklearn.metrics import mean_squared_error, mean_absolute_error"
      ],
      "metadata": {
        "id": "rUlBRU2PCOCt"
      },
      "execution_count": null,
      "outputs": []
    },
    {
      "cell_type": "code",
      "source": [
        "# convert an array of values into a dataset matrix\n",
        "def create_dataset(dataset, look_back=1):\n",
        "  dataX, dataY = [], []\n",
        "  for i in range(len(dataset)-look_back-1):\n",
        "    #t\n",
        "    a = dataset[i:(i+look_back), 0]\n",
        "    dataX.append(a)\n",
        "    #t+1\n",
        "    dataY.append(dataset[i + look_back, 0])\n",
        "  return numpy.array(dataX), numpy.array(dataY)"
      ],
      "metadata": {
        "id": "23JZwaGPCQd-"
      },
      "execution_count": null,
      "outputs": []
    },
    {
      "cell_type": "code",
      "source": [
        "# fix random seed for reproducibility\n",
        "numpy.random.seed(7)"
      ],
      "metadata": {
        "id": "kVdnAHkMCWbx"
      },
      "execution_count": null,
      "outputs": []
    },
    {
      "cell_type": "code",
      "source": [
        "# load the dataset\n",
        "dataframe = pd.read_csv('pollution_new.csv', index_col= 0)\n",
        "dataframe.head()"
      ],
      "metadata": {
        "id": "xSFIaXKwCeS5"
      },
      "execution_count": null,
      "outputs": []
    },
    {
      "cell_type": "code",
      "source": [
        "# load the dataset\n",
        "dataframe = pd.read_csv('pollution_new.csv', index_col= 0)\n",
        "dataframe.head()"
      ],
      "metadata": {
        "id": "qJWDLOsmCgI5"
      },
      "execution_count": null,
      "outputs": []
    },
    {
      "cell_type": "code",
      "source": [
        "import matplotlib.pyplot as plt\n",
        "import seaborn as sns"
      ],
      "metadata": {
        "id": "2AaRvJcGCiCR"
      },
      "execution_count": null,
      "outputs": []
    },
    {
      "cell_type": "code",
      "source": [
        "# normalize the dataset\n",
        "scaler = MinMaxScaler(feature_range=(0, 1))\n",
        "dataset = scaler.fit_transform(dataset)"
      ],
      "metadata": {
        "id": "xFsXBzgBCjz2"
      },
      "execution_count": null,
      "outputs": []
    },
    {
      "cell_type": "code",
      "source": [
        "# split into train and test sets\n",
        "train_size = 365 * 24 * 4 # vì dữ liệu theo giờ (lấy 4 năm đầu train)\n",
        "#train_size = int(len(dataset) * 0.67)\n",
        "test_size = len(dataset) - train_size\n",
        "train, test = dataset[0:train_size,:], dataset[train_size:len(dataset),:]"
      ],
      "metadata": {
        "id": "j6I6895qCkOW"
      },
      "execution_count": null,
      "outputs": []
    },
    {
      "cell_type": "code",
      "source": [
        "# reshape into X=t and Y=t+1\n",
        "look_back = 1\n",
        "trainX, trainY = create_dataset(train, look_back)\n",
        "testX, testY = create_dataset(test, look_back)"
      ],
      "metadata": {
        "id": "vGRitthTCpCW"
      },
      "execution_count": null,
      "outputs": []
    },
    {
      "cell_type": "code",
      "source": [
        "print(trainX[:5])\n",
        "print(trainY[:5])\n",
        "print(testX[:5])\n",
        "print(testY[:5])"
      ],
      "metadata": {
        "id": "sHXdAFNaCsaG"
      },
      "execution_count": null,
      "outputs": []
    },
    {
      "cell_type": "code",
      "source": [
        "# reshape input to be [samples, time steps, features]\n",
        "trainX = numpy.reshape(trainX, (trainX.shape[0], 1, trainX.shape[1]))\n",
        "testX = numpy.reshape(testX, (testX.shape[0], 1, testX.shape[1]))"
      ],
      "metadata": {
        "id": "Wi6Ak1RKC3uF"
      },
      "execution_count": null,
      "outputs": []
    },
    {
      "cell_type": "code",
      "source": [
        "# create and fit the LSTM network\n",
        "model = Sequential()\n",
        "model.add(LSTM(32, input_shape=(1, look_back))) # 64, ...\n",
        "model.add(Dense(1))"
      ],
      "metadata": {
        "id": "VNjKPBiVC8GW"
      },
      "execution_count": null,
      "outputs": []
    },
    {
      "cell_type": "code",
      "source": [
        "model.summary()"
      ],
      "metadata": {
        "id": "-cwGcVVmC_D3"
      },
      "execution_count": null,
      "outputs": []
    },
    {
      "cell_type": "markdown",
      "source": [
        "Calculate params\n",
        "\n",
        "lstm (LSTM) = [(num_units + input_dim + 1) x num_units] x 4 = [(32 + 1 + 1) x 32] x 4 = 4352\n",
        "\n",
        "dense = ((current layer n x previous layer n) + bias) = 1 x 32 + 1 = 33"
      ],
      "metadata": {
        "id": "irjD5rmJDIvW"
      }
    },
    {
      "cell_type": "code",
      "source": [
        "# Early Stopping\n",
        "from tensorflow.keras.callbacks import EarlyStopping\n",
        "early_stopping = EarlyStopping(\n",
        "                      min_delta=0.0001, # minimium amount of change to count as an improvement\n",
        "                      patience=20, # how many epochs to wait before stopping\n",
        "                      restore_best_weights=True,\n",
        "                      )"
      ],
      "metadata": {
        "id": "RCGiL065DK2m"
      },
      "execution_count": null,
      "outputs": []
    },
    {
      "cell_type": "code",
      "source": [
        "model.compile(loss='mean_squared_error', optimizer='adam')\n",
        "history = model.fit(trainX, trainY,\n",
        "                    validation_data=(testX, testY),\n",
        "                    epochs=50, #100, 200\n",
        "                    batch_size=128, # 32, 64, 128\n",
        "                    #callbacks=[early_stopping],\n",
        ")"
      ],
      "metadata": {
        "id": "ZrCQXHf3DGwu"
      },
      "execution_count": null,
      "outputs": []
    },
    {
      "cell_type": "code",
      "source": [
        "# plot history\n",
        "plt.plot(history.history['loss'], label='train')\n",
        "plt.plot(history.history['val_loss'], label='test')\n",
        "plt.legend()\n",
        "plt.show()"
      ],
      "metadata": {
        "id": "xOewlkjrDfPm"
      },
      "execution_count": null,
      "outputs": []
    },
    {
      "cell_type": "code",
      "source": [
        "# make predictions\n",
        "trainPredict = model.predict(trainX)\n",
        "testPredict = model.predict(testX)"
      ],
      "metadata": {
        "id": "6cjqieopEGif"
      },
      "execution_count": null,
      "outputs": []
    },
    {
      "cell_type": "code",
      "source": [
        "# invert predictions\n",
        "trainPredict = scaler.inverse_transform(trainPredict)\n",
        "trainY = scaler.inverse_transform([trainY])"
      ],
      "metadata": {
        "id": "qNo_TD1_EHoA"
      },
      "execution_count": null,
      "outputs": []
    },
    {
      "cell_type": "code",
      "source": [
        "testPredict = scaler.inverse_transform(testPredict)\n",
        "testY = scaler.inverse_transform([testY])\n",
        "trainY[0][:5]\n",
        "trainY[0][:5]"
      ],
      "metadata": {
        "id": "5D0TfFH4EJJO"
      },
      "execution_count": null,
      "outputs": []
    },
    {
      "cell_type": "code",
      "source": [
        "# calculate root mean squared error\n",
        "train_rmse = math.sqrt(mean_squared_error(trainY[0], trainPredict[:,0]))\n",
        "print('Train RMSE: %.2f RMSE' % (train_rmse))\n",
        "test_rmse = math.sqrt(mean_squared_error(testY[0], testPredict[:,0]))\n",
        "print('Test RMSE: %.2f RMSE' % (test_rmse))"
      ],
      "metadata": {
        "id": "PDxlEtJhEPLe"
      },
      "execution_count": null,
      "outputs": []
    },
    {
      "cell_type": "code",
      "source": [
        "train_mae = mean_absolute_error(trainY[0], trainPredict[:,0])\n",
        "print('Train MAE: %.2f MAE' % (train_mae))\n",
        "test_mae = mean_absolute_error(testY[0], testPredict[:,0])\n",
        "print('test MAE: %.2f MAE' % (test_mae))"
      ],
      "metadata": {
        "id": "9oRd2hp8ERKf"
      },
      "execution_count": null,
      "outputs": []
    },
    {
      "cell_type": "code",
      "source": [
        "# shift train predictions for plotting\n",
        "trainPredictPlot = numpy.empty_like(dataset)\n",
        "trainPredictPlot[:, :] = numpy.nan\n",
        "trainPredictPlot[look_back:len(trainPredict)+look_back, :] = trainPredict\n",
        "# shift test predictions for plotting\n",
        "testPredictPlot = numpy.empty_like(dataset)\n",
        "testPredictPlot[:, :] = numpy.nan\n",
        "testPredictPlot[len(trainPredict)+(look_back*2)+1:len(dataset)-1, :] = testPredict"
      ],
      "metadata": {
        "id": "o63znbZTES6G"
      },
      "execution_count": null,
      "outputs": []
    },
    {
      "cell_type": "code",
      "source": [
        "# plot baseline and predictions\n",
        "plt.figure(figsize=(10,6))\n",
        "plt.plot(scaler.inverse_transform(dataset), label='Real Data')\n",
        "plt.plot(trainPredictPlot, label='trainPredict')\n",
        "plt.plot(testPredictPlot, label='testPredict')\n",
        "plt.legend(title=\"Notes\")\n",
        "plt.show()"
      ],
      "metadata": {
        "id": "grt36N5uEUcu"
      },
      "execution_count": null,
      "outputs": []
    },
    {
      "cell_type": "code",
      "source": [
        "ws = {}\n",
        "for layer in model.layers:\n",
        "  ws[layer.name] = layer.get_weights()\n",
        "ws"
      ],
      "metadata": {
        "id": "PS8Uw9PyEXEO"
      },
      "execution_count": null,
      "outputs": []
    },
    {
      "cell_type": "code",
      "source": [
        "# x_new = 8 => next time = ?\n",
        "x_new = scaler.transform([[8]])\n",
        "x_new = numpy.reshape(x_new, (1, 1, 1))"
      ],
      "metadata": {
        "id": "3MBpMVb8EZ9O"
      },
      "execution_count": null,
      "outputs": []
    },
    {
      "cell_type": "code",
      "source": [
        "# x_new = 8 => next time = ?\n",
        "x_new = scaler.transform([[8]])\n",
        "x_new = numpy.reshape(x_new, (1, 1, 1))"
      ],
      "metadata": {
        "id": "-QWPdk-hEbwO"
      },
      "execution_count": null,
      "outputs": []
    }
  ]
}